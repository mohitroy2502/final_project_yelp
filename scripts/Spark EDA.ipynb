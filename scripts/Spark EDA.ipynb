{
 "cells": [
  {
   "cell_type": "code",
   "execution_count": 2,
   "metadata": {},
   "outputs": [],
   "source": [
    "import findspark\n",
    "findspark.init()\n",
    "findspark.find()\n",
    "import pyspark"
   ]
  },
  {
   "cell_type": "code",
   "execution_count": 4,
   "metadata": {},
   "outputs": [],
   "source": [
    "from pyspark.sql import SparkSession\n",
    "\n",
    "warehouseLocation='/user/hive/warehouse'\n",
    "\n",
    "spark = SparkSession.builder \\\n",
    ".appName('EDA') \\\n",
    ".master('local') \\\n",
    ".config(\"spark.sql.warehouse.dir\", warehouseLocation) \\\n",
    ".enableHiveSupport() \\\n",
    ".getOrCreate()"
   ]
  },
  {
   "cell_type": "code",
   "execution_count": 5,
   "metadata": {},
   "outputs": [
    {
     "data": {
      "text/html": [
       "\n",
       "            <div>\n",
       "                <p><b>SparkSession - hive</b></p>\n",
       "                \n",
       "        <div>\n",
       "            <p><b>SparkContext</b></p>\n",
       "\n",
       "            <p><a href=\"http://192.168.0.20:4040\">Spark UI</a></p>\n",
       "\n",
       "            <dl>\n",
       "              <dt>Version</dt>\n",
       "                <dd><code>v2.4.4</code></dd>\n",
       "              <dt>Master</dt>\n",
       "                <dd><code>local</code></dd>\n",
       "              <dt>AppName</dt>\n",
       "                <dd><code>EDA</code></dd>\n",
       "            </dl>\n",
       "        </div>\n",
       "        \n",
       "            </div>\n",
       "        "
      ],
      "text/plain": [
       "<pyspark.sql.session.SparkSession at 0x1cf8742b648>"
      ]
     },
     "execution_count": 5,
     "metadata": {},
     "output_type": "execute_result"
    }
   ],
   "source": [
    "spark"
   ]
  },
  {
   "cell_type": "code",
   "execution_count": 6,
   "metadata": {},
   "outputs": [],
   "source": [
    "review = spark.read.json('hdfs://0.0.0.0:19000/data/review.json')"
   ]
  },
  {
   "cell_type": "code",
   "execution_count": 9,
   "metadata": {},
   "outputs": [
    {
     "data": {
      "text/plain": [
       "[('business_id', 'string'),\n",
       " ('cool', 'bigint'),\n",
       " ('date', 'string'),\n",
       " ('funny', 'bigint'),\n",
       " ('review_id', 'string'),\n",
       " ('stars', 'double'),\n",
       " ('text', 'string'),\n",
       " ('useful', 'bigint'),\n",
       " ('user_id', 'string')]"
      ]
     },
     "execution_count": 9,
     "metadata": {},
     "output_type": "execute_result"
    }
   ],
   "source": [
    "review.dtypes"
   ]
  },
  {
   "cell_type": "code",
   "execution_count": 10,
   "metadata": {},
   "outputs": [
    {
     "data": {
      "text/plain": [
       "[Row(business_id='ujmEBvifdJM6h6RLv4wQIg', cool=0, date='2013-05-07 04:34:36', funny=1, review_id='Q1sbwvVQXV2734tPgoKj4Q', stars=1.0, text='Total bill for this horrible service? Over $8Gs. These crooks actually had the nerve to charge us $69 for 3 pills. I checked online the pills can be had for 19 cents EACH! Avoid Hospital ERs at all costs.', useful=6, user_id='hG7b0MtEbXx5QzbzE6C_VA')]"
      ]
     },
     "execution_count": 10,
     "metadata": {},
     "output_type": "execute_result"
    }
   ],
   "source": [
    "review.take(1)"
   ]
  },
  {
   "cell_type": "code",
   "execution_count": 22,
   "metadata": {},
   "outputs": [
    {
     "data": {
      "text/plain": [
       "[Row(business=0, reviews=0, users=0, dates=0)]"
      ]
     },
     "execution_count": 22,
     "metadata": {},
     "output_type": "execute_result"
    }
   ],
   "source": [
    "review.createOrReplaceTempView(\"review\")\n",
    "spark.sql(\"select count(distinct business_id) as business, count(distinct review_id) as reviews, count(distinct user_id) as users, count(distinct date) as dates from review where business_id is null or review_id is null or user_id is null\").collect()"
   ]
  },
  {
   "cell_type": "code",
   "execution_count": 24,
   "metadata": {},
   "outputs": [
    {
     "data": {
      "text/plain": [
       "[Row(min(date)='2004-10-12 10:13:32', max(date)='2018-11-14 18:13:26')]"
      ]
     },
     "execution_count": 24,
     "metadata": {},
     "output_type": "execute_result"
    }
   ],
   "source": [
    "spark.sql(\"select distinct min(date), max(date) from review\").collect()"
   ]
  },
  {
   "cell_type": "code",
   "execution_count": 26,
   "metadata": {
    "scrolled": true
   },
   "outputs": [
    {
     "data": {
      "text/plain": [
       "[Row(years=2004, count(1)=13),\n",
       " Row(years=2005, count(1)=876),\n",
       " Row(years=2006, count(1)=5081),\n",
       " Row(years=2007, count(1)=21389),\n",
       " Row(years=2008, count(1)=57347),\n",
       " Row(years=2009, count(1)=101173),\n",
       " Row(years=2010, count(1)=187387),\n",
       " Row(years=2011, count(1)=302867),\n",
       " Row(years=2012, count(1)=367090),\n",
       " Row(years=2013, count(1)=491294),\n",
       " Row(years=2014, count(1)=704862),\n",
       " Row(years=2015, count(1)=952400),\n",
       " Row(years=2016, count(1)=1098786),\n",
       " Row(years=2017, count(1)=1217673),\n",
       " Row(years=2018, count(1)=1177662)]"
      ]
     },
     "execution_count": 26,
     "metadata": {},
     "output_type": "execute_result"
    }
   ],
   "source": [
    "spark.sql(\"select extract(year from date) as years, count(*) from review group by years order by years\").collect()"
   ]
  },
  {
   "cell_type": "code",
   "execution_count": 27,
   "metadata": {},
   "outputs": [
    {
     "data": {
      "text/plain": [
       "[Row(stars=1.0, count(1)=1002159),\n",
       " Row(stars=2.0, count(1)=542394),\n",
       " Row(stars=3.0, count(1)=739280),\n",
       " Row(stars=4.0, count(1)=1468985),\n",
       " Row(stars=5.0, count(1)=2933082)]"
      ]
     },
     "execution_count": 27,
     "metadata": {},
     "output_type": "execute_result"
    }
   ],
   "source": [
    "spark.sql(\"select stars, count(*) from review group by stars order by stars\").collect()"
   ]
  },
  {
   "cell_type": "code",
   "execution_count": 28,
   "metadata": {},
   "outputs": [],
   "source": [
    "business = spark.read.json('hdfs://0.0.0.0:19000/data/business.json')"
   ]
  },
  {
   "cell_type": "code",
   "execution_count": 29,
   "metadata": {},
   "outputs": [
    {
     "data": {
      "text/plain": [
       "[('address', 'string'),\n",
       " ('attributes',\n",
       "  'struct<AcceptsInsurance:string,AgesAllowed:string,Alcohol:string,Ambience:string,BYOB:string,BYOBCorkage:string,BestNights:string,BikeParking:string,BusinessAcceptsBitcoin:string,BusinessAcceptsCreditCards:string,BusinessParking:string,ByAppointmentOnly:string,Caters:string,CoatCheck:string,Corkage:string,DietaryRestrictions:string,DogsAllowed:string,DriveThru:string,GoodForDancing:string,GoodForKids:string,GoodForMeal:string,HairSpecializesIn:string,HappyHour:string,HasTV:string,Music:string,NoiseLevel:string,Open24Hours:string,OutdoorSeating:string,RestaurantsAttire:string,RestaurantsCounterService:string,RestaurantsDelivery:string,RestaurantsGoodForGroups:string,RestaurantsPriceRange2:string,RestaurantsReservations:string,RestaurantsTableService:string,RestaurantsTakeOut:string,Smoking:string,WheelchairAccessible:string,WiFi:string>'),\n",
       " ('business_id', 'string'),\n",
       " ('categories', 'string'),\n",
       " ('city', 'string'),\n",
       " ('hours',\n",
       "  'struct<Friday:string,Monday:string,Saturday:string,Sunday:string,Thursday:string,Tuesday:string,Wednesday:string>'),\n",
       " ('is_open', 'bigint'),\n",
       " ('latitude', 'double'),\n",
       " ('longitude', 'double'),\n",
       " ('name', 'string'),\n",
       " ('postal_code', 'string'),\n",
       " ('review_count', 'bigint'),\n",
       " ('stars', 'double'),\n",
       " ('state', 'string')]"
      ]
     },
     "execution_count": 29,
     "metadata": {},
     "output_type": "execute_result"
    }
   ],
   "source": [
    "business.dtypes"
   ]
  },
  {
   "cell_type": "code",
   "execution_count": 30,
   "metadata": {},
   "outputs": [
    {
     "data": {
      "text/plain": [
       "[Row(address='2818 E Camino Acequia Drive', attributes=Row(AcceptsInsurance=None, AgesAllowed=None, Alcohol=None, Ambience=None, BYOB=None, BYOBCorkage=None, BestNights=None, BikeParking=None, BusinessAcceptsBitcoin=None, BusinessAcceptsCreditCards=None, BusinessParking=None, ByAppointmentOnly=None, Caters=None, CoatCheck=None, Corkage=None, DietaryRestrictions=None, DogsAllowed=None, DriveThru=None, GoodForDancing=None, GoodForKids='False', GoodForMeal=None, HairSpecializesIn=None, HappyHour=None, HasTV=None, Music=None, NoiseLevel=None, Open24Hours=None, OutdoorSeating=None, RestaurantsAttire=None, RestaurantsCounterService=None, RestaurantsDelivery=None, RestaurantsGoodForGroups=None, RestaurantsPriceRange2=None, RestaurantsReservations=None, RestaurantsTableService=None, RestaurantsTakeOut=None, Smoking=None, WheelchairAccessible=None, WiFi=None), business_id='1SWheh84yJXfytovILXOAQ', categories='Golf, Active Life', city='Phoenix', hours=None, is_open=0, latitude=33.5221425, longitude=-112.0184807, name='Arizona Biltmore Golf Club', postal_code='85016', review_count=5, stars=3.0, state='AZ')]"
      ]
     },
     "execution_count": 30,
     "metadata": {},
     "output_type": "execute_result"
    }
   ],
   "source": [
    "business.take(1)"
   ]
  },
  {
   "cell_type": "code",
   "execution_count": 34,
   "metadata": {},
   "outputs": [
    {
     "data": {
      "text/plain": [
       "[Row(total_business=192609, categories=93385, total_table_rows=192609)]"
      ]
     },
     "execution_count": 34,
     "metadata": {},
     "output_type": "execute_result"
    }
   ],
   "source": [
    "business.createOrReplaceTempView(\"business\")\n",
    "spark.sql(\"select count(distinct business_id) as total_business, count(distinct categories) as categories, \\\n",
    "count(*) as total_table_rows from business\").collect()"
   ]
  },
  {
   "cell_type": "code",
   "execution_count": 35,
   "metadata": {},
   "outputs": [
    {
     "data": {
      "text/plain": [
       "[Row(categories='Restaurants, Pizza', counts=1042),\n",
       " Row(categories='Nail Salons, Beauty & Spas', counts=1031),\n",
       " Row(categories='Pizza, Restaurants', counts=993),\n",
       " Row(categories='Beauty & Spas, Nail Salons', counts=947),\n",
       " Row(categories='Food, Coffee & Tea', counts=888),\n",
       " Row(categories='Mexican, Restaurants', counts=885),\n",
       " Row(categories='Coffee & Tea, Food', counts=865),\n",
       " Row(categories='Restaurants, Mexican', counts=853),\n",
       " Row(categories='Chinese, Restaurants', counts=840),\n",
       " Row(categories='Hair Salons, Beauty & Spas', counts=831),\n",
       " Row(categories='Beauty & Spas, Hair Salons', counts=819),\n",
       " Row(categories='Restaurants, Chinese', counts=789),\n",
       " Row(categories='Automotive, Auto Repair', counts=585),\n",
       " Row(categories='Auto Repair, Automotive', counts=534),\n",
       " Row(categories='Food, Grocery', counts=492),\n",
       " Row(categories='Grocery, Food', counts=491),\n",
       " Row(categories=None, counts=482),\n",
       " Row(categories='Restaurants, Italian', counts=474),\n",
       " Row(categories='Italian, Restaurants', counts=446),\n",
       " Row(categories='Banks & Credit Unions, Financial Services', counts=439)]"
      ]
     },
     "execution_count": 35,
     "metadata": {},
     "output_type": "execute_result"
    }
   ],
   "source": [
    "spark.sql(\"select categories, count(*) counts from business group by categories order by counts desc limit 20\").collect()"
   ]
  },
  {
   "cell_type": "code",
   "execution_count": 39,
   "metadata": {},
   "outputs": [
    {
     "data": {
      "text/plain": [
       "[Row(categories='Restaurants, Pizza', counts=1042),\n",
       " Row(categories='Pizza, Restaurants', counts=993),\n",
       " Row(categories='Mexican, Restaurants', counts=885),\n",
       " Row(categories='Restaurants, Mexican', counts=853),\n",
       " Row(categories='Chinese, Restaurants', counts=840),\n",
       " Row(categories='Restaurants, Chinese', counts=789),\n",
       " Row(categories='Restaurants, Italian', counts=474),\n",
       " Row(categories='Italian, Restaurants', counts=446),\n",
       " Row(categories='American (Traditional), Restaurants', counts=282),\n",
       " Row(categories='Restaurants, American (Traditional)', counts=272),\n",
       " Row(categories='Vietnamese, Restaurants', counts=272),\n",
       " Row(categories='Restaurants, Vietnamese', counts=264),\n",
       " Row(categories='Restaurants, Thai', counts=261),\n",
       " Row(categories='Restaurants', counts=256),\n",
       " Row(categories='Thai, Restaurants', counts=254),\n",
       " Row(categories='American (New), Restaurants', counts=240),\n",
       " Row(categories='Japanese, Restaurants', counts=235),\n",
       " Row(categories='Sandwiches, Restaurants', counts=227),\n",
       " Row(categories='Indian, Restaurants', counts=226),\n",
       " Row(categories='Restaurants, Burgers', counts=219)]"
      ]
     },
     "execution_count": 39,
     "metadata": {},
     "output_type": "execute_result"
    }
   ],
   "source": [
    "spark.sql(\"select categories, count(*) counts from business \\\n",
    "where lower(categories) like '%restaurant%' \\\n",
    "group by categories order by counts desc limit 20\").collect()"
   ]
  },
  {
   "cell_type": "code",
   "execution_count": 40,
   "metadata": {},
   "outputs": [
    {
     "data": {
      "text/plain": [
       "[Row(total_restaurant_businesses=59387)]"
      ]
     },
     "execution_count": 40,
     "metadata": {},
     "output_type": "execute_result"
    }
   ],
   "source": [
    "spark.sql(\"select count(distinct business_id) total_restaurant_businesses from business \\\n",
    "where lower(categories) like '%restaurant%' \").collect()"
   ]
  },
  {
   "cell_type": "code",
   "execution_count": 41,
   "metadata": {},
   "outputs": [
    {
     "data": {
      "text/plain": [
       "[Row(business_id='4JNXUYY8wbaaDmk3BPzlWw', review_count=8348),\n",
       " Row(business_id='RESDUcs7fIiihp38-d6_6g', review_count=8339),\n",
       " Row(business_id='K7lWdNUhCbcnEvI0NhGewg', review_count=6708),\n",
       " Row(business_id='f4x1YBxkLrZg652xt2KR5g', review_count=5763),\n",
       " Row(business_id='cYwJA2A6I12KNkm2rtXd5g', review_count=5484),\n",
       " Row(business_id='DkYS3arLOhA8si5uUEmHOw', review_count=5075),\n",
       " Row(business_id='2weQS-RnoOBhb1KsHKyoSQ', review_count=4400),\n",
       " Row(business_id='5LNZ67Yw9RD6nf4_UhXOjw', review_count=4322),\n",
       " Row(business_id='iCQpiavjjPzJ5_3gPD5Ebg', review_count=4286),\n",
       " Row(business_id='ujHiaprwCQ5ewziu0Vi9rw', review_count=4227),\n",
       " Row(business_id='AV6weBrZFFBfRGCbcRGO4g', review_count=4117),\n",
       " Row(business_id='KskYqH1Bi7Z_61pH6Om8pg', review_count=3998),\n",
       " Row(business_id='El4FC8jcawUVgw_0EIcbaQ', review_count=3944),\n",
       " Row(business_id='eoHdUeQDNgQ6WYEnP2aiRw', review_count=3929),\n",
       " Row(business_id='rcaPajgKOJC2vo_l3xa42A', review_count=3859),\n",
       " Row(business_id='faPVqws-x-5k2CQKDNtHxw', review_count=3576),\n",
       " Row(business_id='OETh78qcgDltvHULowwhJg', review_count=3547),\n",
       " Row(business_id='Wxxvi3LZbHNIDwJ-ZimtnA', review_count=3499),\n",
       " Row(business_id='hihud--QRriCYZw1zZvW4g', review_count=3449),\n",
       " Row(business_id='7sPNbCx7vGAaH7SbNPZ6oA', review_count=3333)]"
      ]
     },
     "execution_count": 41,
     "metadata": {},
     "output_type": "execute_result"
    }
   ],
   "source": [
    "spark.sql(\"select business_id, review_count from business \\\n",
    "where lower(categories) like '%restaurant%' order by review_count desc limit 20\").collect()"
   ]
  },
  {
   "cell_type": "code",
   "execution_count": 49,
   "metadata": {},
   "outputs": [],
   "source": [
    "business_reviews=spark.sql(\"select r.business_id, r.review_id, r.date, r.useful, r.stars, b.city, b.state, \\\n",
    "b.latitude, b.longitude, b.name, b.postal_code \\\n",
    "from review r \\\n",
    "inner join (select b.business_id, b.city, b.state, b.latitude, b.longitude, b.name, b.postal_code from business b \\\n",
    "where lower(categories) like '%restaurant%' \\\n",
    "order by review_count desc limit 20) b \\\n",
    "on r.business_id=b.business_id\")\n",
    "                    "
   ]
  },
  {
   "cell_type": "code",
   "execution_count": 50,
   "metadata": {},
   "outputs": [
    {
     "data": {
      "text/plain": [
       "[Row(business_id='ujHiaprwCQ5ewziu0Vi9rw', review_id='f0B9-r14-bLudyu5S7aLhw', date='2013-12-07 00:14:06', useful=1, stars=1.0, city='Las Vegas', state='NV', latitude=36.11322, longitude=-115.17689, name='The Buffet at Bellagio', postal_code='89109')]"
      ]
     },
     "execution_count": 50,
     "metadata": {},
     "output_type": "execute_result"
    }
   ],
   "source": [
    "business_reviews.head(1)"
   ]
  },
  {
   "cell_type": "code",
   "execution_count": 51,
   "metadata": {},
   "outputs": [
    {
     "data": {
      "text/plain": [
       "96793"
      ]
     },
     "execution_count": 51,
     "metadata": {},
     "output_type": "execute_result"
    }
   ],
   "source": [
    "business_reviews.count()"
   ]
  },
  {
   "cell_type": "code",
   "execution_count": 54,
   "metadata": {},
   "outputs": [],
   "source": [
    "business_reviews.write.csv('/data/business_reviews_restaurants.csv')"
   ]
  },
  {
   "cell_type": "code",
   "execution_count": null,
   "metadata": {},
   "outputs": [],
   "source": []
  }
 ],
 "metadata": {
  "kernelspec": {
   "display_name": "Python 3",
   "language": "python",
   "name": "python3"
  },
  "language_info": {
   "codemirror_mode": {
    "name": "ipython",
    "version": 3
   },
   "file_extension": ".py",
   "mimetype": "text/x-python",
   "name": "python",
   "nbconvert_exporter": "python",
   "pygments_lexer": "ipython3",
   "version": "3.7.4"
  }
 },
 "nbformat": 4,
 "nbformat_minor": 2
}
